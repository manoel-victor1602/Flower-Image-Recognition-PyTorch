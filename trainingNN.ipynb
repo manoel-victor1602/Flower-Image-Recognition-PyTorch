{
  "nbformat": 4,
  "nbformat_minor": 0,
  "metadata": {
    "colab": {
      "name": "trainingNN.ipynb",
      "version": "0.3.2",
      "provenance": []
    },
    "kernelspec": {
      "name": "python3",
      "display_name": "Python 3"
    },
    "accelerator": "GPU"
  },
  "cells": [
    {
      "metadata": {
        "id": "A_HTD6Py39rD",
        "colab_type": "code",
        "outputId": "0a60dcdc-9045-463c-f250-c625142605cb",
        "colab": {
          "base_uri": "https://localhost:8080/",
          "height": 202
        }
      },
      "cell_type": "code",
      "source": [
        "!wget https://s3.amazonaws.com/content.udacity-data.com/courses/nd188/flower_data.zip"
      ],
      "execution_count": 0,
      "outputs": [
        {
          "output_type": "stream",
          "text": [
            "--2019-01-23 04:38:57--  https://s3.amazonaws.com/content.udacity-data.com/courses/nd188/flower_data.zip\n",
            "Resolving s3.amazonaws.com (s3.amazonaws.com)... 52.216.136.190\n",
            "Connecting to s3.amazonaws.com (s3.amazonaws.com)|52.216.136.190|:443... connected.\n",
            "HTTP request sent, awaiting response... 200 OK\n",
            "Length: 311442766 (297M) [application/zip]\n",
            "Saving to: ‘flower_data.zip’\n",
            "\n",
            "flower_data.zip     100%[===================>] 297.01M  36.3MB/s    in 8.8s    \n",
            "\n",
            "2019-01-23 04:39:06 (33.7 MB/s) - ‘flower_data.zip’ saved [311442766/311442766]\n",
            "\n"
          ],
          "name": "stdout"
        }
      ]
    },
    {
      "metadata": {
        "id": "_gpn03AFAWNo",
        "colab_type": "code",
        "colab": {}
      },
      "cell_type": "code",
      "source": [
        "!unzip flower_data.zip"
      ],
      "execution_count": 0,
      "outputs": []
    },
    {
      "metadata": {
        "id": "cGpjTckxAe4u",
        "colab_type": "code",
        "outputId": "fa90dfbe-9894-4550-d18b-46464c97ea4b",
        "colab": {
          "base_uri": "https://localhost:8080/",
          "height": 34
        }
      },
      "cell_type": "code",
      "source": [
        "!ls"
      ],
      "execution_count": 0,
      "outputs": [
        {
          "output_type": "stream",
          "text": [
            "data  flower_data  flower_data.zip  model_cifar.pt  sample_data\n"
          ],
          "name": "stdout"
        }
      ]
    },
    {
      "metadata": {
        "id": "O-y2MFVtAmbd",
        "colab_type": "code",
        "colab": {}
      },
      "cell_type": "code",
      "source": [
        "import matplotlib.pyplot as plt\n",
        "import numpy as np\n",
        "import torch\n",
        "from torch import nn\n",
        "from torch import optim\n",
        "import torch.nn.functional as F\n",
        "from torchvision import datasets, transforms, models\n",
        "import torchvision.models as models"
      ],
      "execution_count": 0,
      "outputs": []
    },
    {
      "metadata": {
        "id": "THn557XMAm_Z",
        "colab_type": "code",
        "colab": {}
      },
      "cell_type": "code",
      "source": [
        "data_dir = 'flower_data'\n",
        "train_dir = data_dir + '/train'\n",
        "valid_dir = data_dir + '/valid'"
      ],
      "execution_count": 0,
      "outputs": []
    },
    {
      "metadata": {
        "id": "UZiM3n_fAuJR",
        "colab_type": "code",
        "colab": {}
      },
      "cell_type": "code",
      "source": [
        "train_transforms = transforms.Compose([transforms.RandomRotation(30),\n",
        "                                       transforms.RandomResizedCrop(224),\n",
        "                                       transforms.RandomHorizontalFlip(),\n",
        "                                       transforms.ToTensor(),\n",
        "                                       transforms.Normalize([0.485, 0.456, 0.406], \n",
        "                                                            [0.229, 0.224, 0.225])])\n",
        "\n",
        "validation_transforms = transforms.Compose([transforms.Resize(256),\n",
        "                                            transforms.CenterCrop(224),\n",
        "                                            transforms.ToTensor(),\n",
        "                                            transforms.Normalize([0.485, 0.456, 0.406], \n",
        "                                                                 [0.229, 0.224, 0.225])])\n",
        "\n",
        "# TODO: Load the datasets with ImageFolder\n",
        "train_data = datasets.ImageFolder(train_dir, transform=train_transforms)\n",
        "validation_data = datasets.ImageFolder(valid_dir, transform=validation_transforms)\n",
        "\n",
        "# TODO: Using the image datasets and the trainforms, define the dataloaders\n",
        "trainloader = torch.utils.data.DataLoader(train_data, batch_size=64, shuffle=True)\n",
        "vloader = torch.utils.data.DataLoader(validation_data, batch_size =32,shuffle = True)"
      ],
      "execution_count": 0,
      "outputs": []
    },
    {
      "metadata": {
        "id": "0Qd-cMEyA50K",
        "colab_type": "code",
        "colab": {}
      },
      "cell_type": "code",
      "source": [
        "def nn_setup(dropout=0.5, hidden_layer1 = 120,lr = 0.001):\n",
        "     \n",
        "    model = models.vgg16(pretrained=True)        \n",
        "        \n",
        "    for param in model.parameters():\n",
        "        param.requires_grad = False\n",
        "\n",
        "        from collections import OrderedDict\n",
        "        classifier = nn.Sequential(OrderedDict([\n",
        "            ('dropout',nn.Dropout(dropout)),\n",
        "            ('inputs', nn.Linear(25088, hidden_layer1)),\n",
        "            ('relu1', nn.ReLU()),\n",
        "            ('hidden_layer1', nn.Linear(hidden_layer1, 90)),\n",
        "            ('relu2',nn.ReLU()),\n",
        "            ('hidden_layer2',nn.Linear(90,80)),\n",
        "            ('relu3',nn.ReLU()),\n",
        "            ('hidden_layer3',nn.Linear(80,102)),\n",
        "            ('output', nn.LogSoftmax(dim=1))\n",
        "                          ]))\n",
        "        \n",
        "        \n",
        "        model.classifier = classifier\n",
        "        criterion = nn.NLLLoss()\n",
        "        optimizer = optim.Adam(model.classifier.parameters(), lr )\n",
        "        model.cuda()\n",
        "        \n",
        "        return model , optimizer ,criterion "
      ],
      "execution_count": 0,
      "outputs": []
    },
    {
      "metadata": {
        "id": "2_XxH4EVBVmA",
        "colab_type": "code",
        "colab": {}
      },
      "cell_type": "code",
      "source": [
        "model,optimizer,criterion = nn_setup()"
      ],
      "execution_count": 0,
      "outputs": []
    },
    {
      "metadata": {
        "id": "Ml_TvvaGBuB4",
        "colab_type": "code",
        "outputId": "e4d7bec4-5023-469d-9c5f-cadd889ee40d",
        "colab": {
          "base_uri": "https://localhost:8080/",
          "height": 4166
        }
      },
      "cell_type": "code",
      "source": [
        "epochs = 12\n",
        "print_every = 5\n",
        "steps = 0\n",
        "loss_show=[]\n",
        "\n",
        "# change to cuda\n",
        "model.to('cuda')\n",
        "\n",
        "for e in range(epochs):\n",
        "    running_loss = 0\n",
        "    for ii, (inputs, labels) in enumerate(trainloader):\n",
        "        steps += 1\n",
        "        \n",
        "        inputs,labels = inputs.to('cuda'), labels.to('cuda')\n",
        "        \n",
        "        optimizer.zero_grad()\n",
        "        \n",
        "        # Forward and backward passes\n",
        "        outputs = model.forward(inputs)\n",
        "        loss = criterion(outputs, labels)\n",
        "        loss.backward()\n",
        "        optimizer.step()\n",
        "        \n",
        "        running_loss += loss.item()\n",
        "        \n",
        "        if steps % print_every == 0:\n",
        "            model.eval()\n",
        "            vlost = 0\n",
        "            accuracy=0\n",
        "            \n",
        "            \n",
        "            for ii, (inputs2,labels2) in enumerate(vloader):\n",
        "                optimizer.zero_grad()\n",
        "                \n",
        "                inputs2, labels2 = inputs2.to('cuda:0') , labels2.to('cuda:0')\n",
        "                model.to('cuda:0')\n",
        "                with torch.no_grad():    \n",
        "                    outputs = model.forward(inputs2)\n",
        "                    vlost = criterion(outputs,labels2)\n",
        "                    ps = torch.exp(outputs).data\n",
        "                    equality = (labels2.data == ps.max(1)[1])\n",
        "                    accuracy += equality.type_as(torch.FloatTensor()).mean()\n",
        "                    \n",
        "            vlost = vlost / len(vloader)\n",
        "            accuracy = accuracy /len(vloader)\n",
        "            \n",
        "                    \n",
        "            \n",
        "            print(\"Epoch: {}/{}... \".format(e+1, epochs),\n",
        "                  \"Loss: {:.4f}\".format(running_loss/print_every),\n",
        "                  \"Validation Lost {:.4f}\".format(vlost),\n",
        "                   \"Accuracy: {:.4f}\".format(accuracy))\n",
        "            \n",
        "            \n",
        "            running_loss = 0\n"
      ],
      "execution_count": 0,
      "outputs": [
        {
          "output_type": "stream",
          "text": [
            "Epoch: 1/12...  Loss: 4.6014 Validation Lost 0.1783 Accuracy: 0.0274\n",
            "Epoch: 1/12...  Loss: 4.5824 Validation Lost 0.1705 Accuracy: 0.0610\n",
            "Epoch: 1/12...  Loss: 4.3922 Validation Lost 0.1700 Accuracy: 0.0947\n",
            "Epoch: 1/12...  Loss: 4.3230 Validation Lost 0.1609 Accuracy: 0.0966\n",
            "Epoch: 1/12...  Loss: 4.1081 Validation Lost 0.1482 Accuracy: 0.1660\n",
            "Epoch: 1/12...  Loss: 4.1800 Validation Lost 0.1541 Accuracy: 0.1680\n",
            "Epoch: 1/12...  Loss: 3.9845 Validation Lost 0.1400 Accuracy: 0.2321\n",
            "Epoch: 1/12...  Loss: 3.7720 Validation Lost 0.1040 Accuracy: 0.2388\n",
            "Epoch: 1/12...  Loss: 3.5137 Validation Lost 0.1178 Accuracy: 0.2808\n",
            "Epoch: 1/12...  Loss: 3.3270 Validation Lost 0.1216 Accuracy: 0.3391\n",
            "Epoch: 1/12...  Loss: 3.2687 Validation Lost 0.1154 Accuracy: 0.3503\n",
            "Epoch: 1/12...  Loss: 3.0551 Validation Lost 0.0911 Accuracy: 0.3582\n",
            "Epoch: 1/12...  Loss: 2.9140 Validation Lost 0.0815 Accuracy: 0.4236\n",
            "Epoch: 1/12...  Loss: 2.7306 Validation Lost 0.0739 Accuracy: 0.4442\n",
            "Epoch: 1/12...  Loss: 2.6512 Validation Lost 0.0786 Accuracy: 0.4880\n",
            "Epoch: 1/12...  Loss: 2.4684 Validation Lost 0.0599 Accuracy: 0.5093\n",
            "Epoch: 1/12...  Loss: 2.3295 Validation Lost 0.0673 Accuracy: 0.4838\n",
            "Epoch: 1/12...  Loss: 2.2851 Validation Lost 0.0819 Accuracy: 0.5495\n",
            "Epoch: 1/12...  Loss: 2.3557 Validation Lost 0.0788 Accuracy: 0.5502\n",
            "Epoch: 1/12...  Loss: 2.0277 Validation Lost 0.0441 Accuracy: 0.5710\n",
            "Epoch: 2/12...  Loss: 0.7742 Validation Lost 0.0535 Accuracy: 0.5620\n",
            "Epoch: 2/12...  Loss: 2.0001 Validation Lost 0.0484 Accuracy: 0.5773\n",
            "Epoch: 2/12...  Loss: 1.8109 Validation Lost 0.0593 Accuracy: 0.6380\n",
            "Epoch: 2/12...  Loss: 1.8533 Validation Lost 0.0542 Accuracy: 0.6046\n",
            "Epoch: 2/12...  Loss: 1.7089 Validation Lost 0.0634 Accuracy: 0.6358\n",
            "Epoch: 2/12...  Loss: 1.5986 Validation Lost 0.0463 Accuracy: 0.6408\n",
            "Epoch: 2/12...  Loss: 1.6618 Validation Lost 0.0363 Accuracy: 0.6480\n",
            "Epoch: 2/12...  Loss: 1.6842 Validation Lost 0.0510 Accuracy: 0.6800\n",
            "Epoch: 2/12...  Loss: 1.6724 Validation Lost 0.0341 Accuracy: 0.6470\n",
            "Epoch: 2/12...  Loss: 1.6484 Validation Lost 0.0462 Accuracy: 0.6741\n",
            "Epoch: 2/12...  Loss: 1.6565 Validation Lost 0.0186 Accuracy: 0.7181\n",
            "Epoch: 2/12...  Loss: 1.5589 Validation Lost 0.0255 Accuracy: 0.7157\n",
            "Epoch: 2/12...  Loss: 1.5602 Validation Lost 0.0334 Accuracy: 0.7244\n",
            "Epoch: 2/12...  Loss: 1.5253 Validation Lost 0.0408 Accuracy: 0.6774\n",
            "Epoch: 2/12...  Loss: 1.5060 Validation Lost 0.0330 Accuracy: 0.6778\n",
            "Epoch: 2/12...  Loss: 1.2680 Validation Lost 0.0367 Accuracy: 0.7213\n",
            "Epoch: 2/12...  Loss: 1.3168 Validation Lost 0.0453 Accuracy: 0.7242\n",
            "Epoch: 2/12...  Loss: 1.4204 Validation Lost 0.0306 Accuracy: 0.7294\n",
            "Epoch: 2/12...  Loss: 1.4314 Validation Lost 0.0189 Accuracy: 0.7349\n",
            "Epoch: 2/12...  Loss: 1.2931 Validation Lost 0.0389 Accuracy: 0.7453\n",
            "Epoch: 2/12...  Loss: 1.2807 Validation Lost 0.0463 Accuracy: 0.7360\n",
            "Epoch: 3/12...  Loss: 1.0175 Validation Lost 0.0521 Accuracy: 0.7374\n",
            "Epoch: 3/12...  Loss: 1.1967 Validation Lost 0.0283 Accuracy: 0.7424\n",
            "Epoch: 3/12...  Loss: 1.2894 Validation Lost 0.0414 Accuracy: 0.7597\n",
            "Epoch: 3/12...  Loss: 1.2208 Validation Lost 0.0233 Accuracy: 0.7589\n",
            "Epoch: 3/12...  Loss: 1.1461 Validation Lost 0.0417 Accuracy: 0.7615\n",
            "Epoch: 3/12...  Loss: 1.0589 Validation Lost 0.0266 Accuracy: 0.7330\n",
            "Epoch: 3/12...  Loss: 1.2885 Validation Lost 0.0228 Accuracy: 0.7857\n",
            "Epoch: 3/12...  Loss: 1.1225 Validation Lost 0.0311 Accuracy: 0.7520\n",
            "Epoch: 3/12...  Loss: 1.1390 Validation Lost 0.0369 Accuracy: 0.7520\n",
            "Epoch: 3/12...  Loss: 1.0673 Validation Lost 0.0229 Accuracy: 0.7869\n",
            "Epoch: 3/12...  Loss: 1.0743 Validation Lost 0.0250 Accuracy: 0.7778\n",
            "Epoch: 3/12...  Loss: 1.1250 Validation Lost 0.0319 Accuracy: 0.7811\n",
            "Epoch: 3/12...  Loss: 1.1701 Validation Lost 0.0261 Accuracy: 0.7922\n",
            "Epoch: 3/12...  Loss: 1.0813 Validation Lost 0.0383 Accuracy: 0.7735\n",
            "Epoch: 3/12...  Loss: 1.0222 Validation Lost 0.0332 Accuracy: 0.8028\n",
            "Epoch: 3/12...  Loss: 1.0476 Validation Lost 0.0308 Accuracy: 0.7934\n",
            "Epoch: 3/12...  Loss: 1.0701 Validation Lost 0.0495 Accuracy: 0.7528\n",
            "Epoch: 3/12...  Loss: 1.1661 Validation Lost 0.0223 Accuracy: 0.7989\n",
            "Epoch: 3/12...  Loss: 1.1987 Validation Lost 0.0341 Accuracy: 0.8030\n",
            "Epoch: 3/12...  Loss: 0.9645 Validation Lost 0.0227 Accuracy: 0.8133\n",
            "Epoch: 4/12...  Loss: 0.1482 Validation Lost 0.0044 Accuracy: 0.8089\n",
            "Epoch: 4/12...  Loss: 0.9508 Validation Lost 0.0555 Accuracy: 0.7798\n",
            "Epoch: 4/12...  Loss: 0.9812 Validation Lost 0.0104 Accuracy: 0.8176\n",
            "Epoch: 4/12...  Loss: 0.8819 Validation Lost 0.0500 Accuracy: 0.8478\n",
            "Epoch: 4/12...  Loss: 0.8635 Validation Lost 0.0084 Accuracy: 0.8200\n",
            "Epoch: 4/12...  Loss: 0.9870 Validation Lost 0.0441 Accuracy: 0.8343\n",
            "Epoch: 4/12...  Loss: 0.8960 Validation Lost 0.0146 Accuracy: 0.7998\n",
            "Epoch: 4/12...  Loss: 0.9564 Validation Lost 0.0291 Accuracy: 0.8126\n",
            "Epoch: 4/12...  Loss: 1.0810 Validation Lost 0.0097 Accuracy: 0.8200\n",
            "Epoch: 4/12...  Loss: 0.8358 Validation Lost 0.0076 Accuracy: 0.8104\n",
            "Epoch: 4/12...  Loss: 1.0982 Validation Lost 0.0242 Accuracy: 0.8100\n",
            "Epoch: 4/12...  Loss: 0.9017 Validation Lost 0.0164 Accuracy: 0.7941\n",
            "Epoch: 4/12...  Loss: 0.9039 Validation Lost 0.0482 Accuracy: 0.8054\n",
            "Epoch: 4/12...  Loss: 1.0924 Validation Lost 0.0343 Accuracy: 0.8220\n",
            "Epoch: 4/12...  Loss: 1.1898 Validation Lost 0.0142 Accuracy: 0.8226\n",
            "Epoch: 4/12...  Loss: 1.0506 Validation Lost 0.0178 Accuracy: 0.8166\n",
            "Epoch: 4/12...  Loss: 1.0316 Validation Lost 0.0299 Accuracy: 0.8186\n",
            "Epoch: 4/12...  Loss: 0.9625 Validation Lost 0.0295 Accuracy: 0.8196\n",
            "Epoch: 4/12...  Loss: 0.8841 Validation Lost 0.0278 Accuracy: 0.7903\n",
            "Epoch: 4/12...  Loss: 0.9752 Validation Lost 0.0213 Accuracy: 0.7982\n",
            "Epoch: 4/12...  Loss: 0.9978 Validation Lost 0.0201 Accuracy: 0.8061\n",
            "Epoch: 5/12...  Loss: 0.4491 Validation Lost 0.0231 Accuracy: 0.8277\n",
            "Epoch: 5/12...  Loss: 0.8564 Validation Lost 0.0130 Accuracy: 0.8049\n",
            "Epoch: 5/12...  Loss: 0.8034 Validation Lost 0.0281 Accuracy: 0.8244\n",
            "Epoch: 5/12...  Loss: 0.8574 Validation Lost 0.0310 Accuracy: 0.7845\n",
            "Epoch: 5/12...  Loss: 0.8100 Validation Lost 0.0135 Accuracy: 0.7859\n",
            "Epoch: 5/12...  Loss: 0.9035 Validation Lost 0.0126 Accuracy: 0.8145\n",
            "Epoch: 5/12...  Loss: 0.8641 Validation Lost 0.0474 Accuracy: 0.8289\n",
            "Epoch: 5/12...  Loss: 0.8565 Validation Lost 0.0227 Accuracy: 0.8172\n",
            "Epoch: 5/12...  Loss: 0.9503 Validation Lost 0.0235 Accuracy: 0.8436\n",
            "Epoch: 5/12...  Loss: 0.8948 Validation Lost 0.0229 Accuracy: 0.8424\n",
            "Epoch: 5/12...  Loss: 0.9710 Validation Lost 0.0189 Accuracy: 0.8433\n",
            "Epoch: 5/12...  Loss: 0.8868 Validation Lost 0.0079 Accuracy: 0.8263\n",
            "Epoch: 5/12...  Loss: 0.8620 Validation Lost 0.0508 Accuracy: 0.8283\n",
            "Epoch: 5/12...  Loss: 0.8744 Validation Lost 0.0123 Accuracy: 0.8359\n",
            "Epoch: 5/12...  Loss: 0.8404 Validation Lost 0.0131 Accuracy: 0.8323\n",
            "Epoch: 5/12...  Loss: 0.7285 Validation Lost 0.0246 Accuracy: 0.8307\n",
            "Epoch: 5/12...  Loss: 0.9463 Validation Lost 0.0194 Accuracy: 0.8352\n",
            "Epoch: 5/12...  Loss: 1.0233 Validation Lost 0.0038 Accuracy: 0.8558\n",
            "Epoch: 5/12...  Loss: 0.7806 Validation Lost 0.0151 Accuracy: 0.8467\n",
            "Epoch: 5/12...  Loss: 0.7377 Validation Lost 0.0065 Accuracy: 0.8584\n",
            "Epoch: 5/12...  Loss: 0.6877 Validation Lost 0.0160 Accuracy: 0.8412\n",
            "Epoch: 6/12...  Loss: 0.8680 Validation Lost 0.0263 Accuracy: 0.8256\n",
            "Epoch: 6/12...  Loss: 0.7742 Validation Lost 0.0161 Accuracy: 0.8458\n",
            "Epoch: 6/12...  Loss: 0.7882 Validation Lost 0.0219 Accuracy: 0.8448\n",
            "Epoch: 6/12...  Loss: 0.6907 Validation Lost 0.0239 Accuracy: 0.8484\n",
            "Epoch: 6/12...  Loss: 0.7291 Validation Lost 0.0112 Accuracy: 0.8563\n",
            "Epoch: 6/12...  Loss: 0.8376 Validation Lost 0.0106 Accuracy: 0.8635\n",
            "Epoch: 6/12...  Loss: 0.7783 Validation Lost 0.0084 Accuracy: 0.8452\n",
            "Epoch: 6/12...  Loss: 0.7176 Validation Lost 0.0181 Accuracy: 0.8347\n",
            "Epoch: 6/12...  Loss: 0.7315 Validation Lost 0.0419 Accuracy: 0.8466\n",
            "Epoch: 6/12...  Loss: 0.7801 Validation Lost 0.0177 Accuracy: 0.8335\n",
            "Epoch: 6/12...  Loss: 0.8390 Validation Lost 0.0250 Accuracy: 0.8385\n",
            "Epoch: 6/12...  Loss: 0.9054 Validation Lost 0.0183 Accuracy: 0.8313\n",
            "Epoch: 6/12...  Loss: 0.7431 Validation Lost 0.0089 Accuracy: 0.8512\n",
            "Epoch: 6/12...  Loss: 0.7650 Validation Lost 0.0028 Accuracy: 0.8269\n",
            "Epoch: 6/12...  Loss: 0.7854 Validation Lost 0.0232 Accuracy: 0.8376\n",
            "Epoch: 6/12...  Loss: 0.8331 Validation Lost 0.0420 Accuracy: 0.8415\n",
            "Epoch: 6/12...  Loss: 0.8406 Validation Lost 0.0135 Accuracy: 0.8575\n",
            "Epoch: 6/12...  Loss: 0.8307 Validation Lost 0.0105 Accuracy: 0.8608\n",
            "Epoch: 6/12...  Loss: 0.8758 Validation Lost 0.0123 Accuracy: 0.8647\n",
            "Epoch: 6/12...  Loss: 0.7810 Validation Lost 0.0259 Accuracy: 0.8616\n",
            "Epoch: 7/12...  Loss: 0.3078 Validation Lost 0.0166 Accuracy: 0.8373\n",
            "Epoch: 7/12...  Loss: 0.8197 Validation Lost 0.0380 Accuracy: 0.8514\n",
            "Epoch: 7/12...  Loss: 0.6718 Validation Lost 0.0286 Accuracy: 0.8379\n",
            "Epoch: 7/12...  Loss: 0.7493 Validation Lost 0.0137 Accuracy: 0.8407\n",
            "Epoch: 7/12...  Loss: 0.7491 Validation Lost 0.0363 Accuracy: 0.8301\n",
            "Epoch: 7/12...  Loss: 0.6979 Validation Lost 0.0157 Accuracy: 0.8640\n",
            "Epoch: 7/12...  Loss: 0.7905 Validation Lost 0.0017 Accuracy: 0.8510\n",
            "Epoch: 7/12...  Loss: 0.8017 Validation Lost 0.0163 Accuracy: 0.8590\n",
            "Epoch: 7/12...  Loss: 0.6828 Validation Lost 0.0200 Accuracy: 0.8677\n",
            "Epoch: 7/12...  Loss: 0.8148 Validation Lost 0.0396 Accuracy: 0.8556\n",
            "Epoch: 7/12...  Loss: 0.7372 Validation Lost 0.0069 Accuracy: 0.8584\n",
            "Epoch: 7/12...  Loss: 0.7773 Validation Lost 0.0121 Accuracy: 0.8488\n",
            "Epoch: 7/12...  Loss: 0.8155 Validation Lost 0.0178 Accuracy: 0.8518\n",
            "Epoch: 7/12...  Loss: 0.6301 Validation Lost 0.0041 Accuracy: 0.8546\n",
            "Epoch: 7/12...  Loss: 0.7298 Validation Lost 0.0171 Accuracy: 0.8515\n",
            "Epoch: 7/12...  Loss: 0.7363 Validation Lost 0.0191 Accuracy: 0.8614\n",
            "Epoch: 7/12...  Loss: 0.7174 Validation Lost 0.0091 Accuracy: 0.8681\n",
            "Epoch: 7/12...  Loss: 0.7387 Validation Lost 0.0312 Accuracy: 0.8683\n",
            "Epoch: 7/12...  Loss: 0.7810 Validation Lost 0.0145 Accuracy: 0.8530\n",
            "Epoch: 7/12...  Loss: 0.6887 Validation Lost 0.0031 Accuracy: 0.8714\n",
            "Epoch: 7/12...  Loss: 0.7312 Validation Lost 0.0105 Accuracy: 0.8707\n",
            "Epoch: 8/12...  Loss: 0.5599 Validation Lost 0.0071 Accuracy: 0.8669\n",
            "Epoch: 8/12...  Loss: 0.6860 Validation Lost 0.0104 Accuracy: 0.8611\n",
            "Epoch: 8/12...  Loss: 0.7328 Validation Lost 0.0136 Accuracy: 0.8632\n",
            "Epoch: 8/12...  Loss: 0.7086 Validation Lost 0.0113 Accuracy: 0.8620\n",
            "Epoch: 8/12...  Loss: 0.8274 Validation Lost 0.0154 Accuracy: 0.8611\n",
            "Epoch: 8/12...  Loss: 0.7427 Validation Lost 0.0125 Accuracy: 0.8527\n",
            "Epoch: 8/12...  Loss: 0.7956 Validation Lost 0.0276 Accuracy: 0.8568\n",
            "Epoch: 8/12...  Loss: 0.6235 Validation Lost 0.0158 Accuracy: 0.8458\n",
            "Epoch: 8/12...  Loss: 0.7455 Validation Lost 0.0236 Accuracy: 0.8475\n",
            "Epoch: 8/12...  Loss: 0.6155 Validation Lost 0.0109 Accuracy: 0.8623\n",
            "Epoch: 8/12...  Loss: 0.7475 Validation Lost 0.0082 Accuracy: 0.8681\n",
            "Epoch: 8/12...  Loss: 0.6006 Validation Lost 0.0142 Accuracy: 0.8789\n",
            "Epoch: 8/12...  Loss: 0.6814 Validation Lost 0.0094 Accuracy: 0.8647\n",
            "Epoch: 8/12...  Loss: 0.6919 Validation Lost 0.0278 Accuracy: 0.8587\n",
            "Epoch: 8/12...  Loss: 0.8931 Validation Lost 0.0074 Accuracy: 0.8669\n",
            "Epoch: 8/12...  Loss: 0.6869 Validation Lost 0.0076 Accuracy: 0.8500\n",
            "Epoch: 8/12...  Loss: 0.8035 Validation Lost 0.0194 Accuracy: 0.8554\n",
            "Epoch: 8/12...  Loss: 0.5847 Validation Lost 0.0166 Accuracy: 0.8623\n",
            "Epoch: 8/12...  Loss: 0.7404 Validation Lost 0.0111 Accuracy: 0.8705\n",
            "Epoch: 8/12...  Loss: 0.7561 Validation Lost 0.0048 Accuracy: 0.8560\n",
            "Epoch: 9/12...  Loss: 0.0767 Validation Lost 0.0104 Accuracy: 0.8419\n",
            "Epoch: 9/12...  Loss: 0.6847 Validation Lost 0.0238 Accuracy: 0.8530\n",
            "Epoch: 9/12...  Loss: 0.7109 Validation Lost 0.0255 Accuracy: 0.8628\n",
            "Epoch: 9/12...  Loss: 0.7120 Validation Lost 0.0122 Accuracy: 0.8446\n",
            "Epoch: 9/12...  Loss: 0.6460 Validation Lost 0.0142 Accuracy: 0.8695\n",
            "Epoch: 9/12...  Loss: 0.5604 Validation Lost 0.0177 Accuracy: 0.8767\n",
            "Epoch: 9/12...  Loss: 0.5501 Validation Lost 0.0183 Accuracy: 0.8693\n",
            "Epoch: 9/12...  Loss: 0.6193 Validation Lost 0.0166 Accuracy: 0.8551\n",
            "Epoch: 9/12...  Loss: 0.5448 Validation Lost 0.0197 Accuracy: 0.8518\n",
            "Epoch: 9/12...  Loss: 0.6506 Validation Lost 0.0068 Accuracy: 0.8669\n",
            "Epoch: 9/12...  Loss: 0.6326 Validation Lost 0.0110 Accuracy: 0.8659\n",
            "Epoch: 9/12...  Loss: 0.7020 Validation Lost 0.0215 Accuracy: 0.8626\n",
            "Epoch: 9/12...  Loss: 0.6394 Validation Lost 0.0150 Accuracy: 0.8741\n",
            "Epoch: 9/12...  Loss: 0.7784 Validation Lost 0.0076 Accuracy: 0.8717\n",
            "Epoch: 9/12...  Loss: 0.6321 Validation Lost 0.0406 Accuracy: 0.8436\n",
            "Epoch: 9/12...  Loss: 0.5876 Validation Lost 0.0098 Accuracy: 0.8707\n",
            "Epoch: 9/12...  Loss: 0.6802 Validation Lost 0.0098 Accuracy: 0.8731\n",
            "Epoch: 9/12...  Loss: 0.5730 Validation Lost 0.0027 Accuracy: 0.8762\n",
            "Epoch: 9/12...  Loss: 0.6872 Validation Lost 0.0293 Accuracy: 0.8638\n",
            "Epoch: 9/12...  Loss: 0.7322 Validation Lost 0.0065 Accuracy: 0.8596\n",
            "Epoch: 9/12...  Loss: 0.6248 Validation Lost 0.0242 Accuracy: 0.8443\n",
            "Epoch: 10/12...  Loss: 0.3147 Validation Lost 0.0183 Accuracy: 0.8484\n",
            "Epoch: 10/12...  Loss: 0.7241 Validation Lost 0.0023 Accuracy: 0.8678\n",
            "Epoch: 10/12...  Loss: 0.6633 Validation Lost 0.0083 Accuracy: 0.8669\n",
            "Epoch: 10/12...  Loss: 0.5616 Validation Lost 0.0092 Accuracy: 0.8729\n",
            "Epoch: 10/12...  Loss: 0.5619 Validation Lost 0.0198 Accuracy: 0.8623\n",
            "Epoch: 10/12...  Loss: 0.6926 Validation Lost 0.0057 Accuracy: 0.8596\n",
            "Epoch: 10/12...  Loss: 0.6373 Validation Lost 0.0263 Accuracy: 0.8511\n",
            "Epoch: 10/12...  Loss: 0.6428 Validation Lost 0.0051 Accuracy: 0.8642\n",
            "Epoch: 10/12...  Loss: 0.7187 Validation Lost 0.0091 Accuracy: 0.8695\n",
            "Epoch: 10/12...  Loss: 0.6650 Validation Lost 0.0188 Accuracy: 0.8791\n",
            "Epoch: 10/12...  Loss: 0.6498 Validation Lost 0.0215 Accuracy: 0.8590\n",
            "Epoch: 10/12...  Loss: 0.5866 Validation Lost 0.0120 Accuracy: 0.8765\n",
            "Epoch: 10/12...  Loss: 0.6269 Validation Lost 0.0111 Accuracy: 0.8722\n",
            "Epoch: 10/12...  Loss: 0.7144 Validation Lost 0.0016 Accuracy: 0.8666\n",
            "Epoch: 10/12...  Loss: 0.5392 Validation Lost 0.0186 Accuracy: 0.8568\n",
            "Epoch: 10/12...  Loss: 0.6337 Validation Lost 0.0208 Accuracy: 0.8520\n",
            "Epoch: 10/12...  Loss: 0.5517 Validation Lost 0.0186 Accuracy: 0.8575\n",
            "Epoch: 10/12...  Loss: 0.5594 Validation Lost 0.0052 Accuracy: 0.8572\n",
            "Epoch: 10/12...  Loss: 0.5870 Validation Lost 0.0246 Accuracy: 0.8755\n",
            "Epoch: 10/12...  Loss: 0.5370 Validation Lost 0.0170 Accuracy: 0.8773\n",
            "Epoch: 10/12...  Loss: 0.6111 Validation Lost 0.0392 Accuracy: 0.8770\n",
            "Epoch: 11/12...  Loss: 0.6431 Validation Lost 0.0090 Accuracy: 0.8695\n",
            "Epoch: 11/12...  Loss: 0.6820 Validation Lost 0.0291 Accuracy: 0.8743\n",
            "Epoch: 11/12...  Loss: 0.5806 Validation Lost 0.0296 Accuracy: 0.8580\n",
            "Epoch: 11/12...  Loss: 0.7761 Validation Lost 0.0287 Accuracy: 0.8556\n",
            "Epoch: 11/12...  Loss: 0.7500 Validation Lost 0.0092 Accuracy: 0.8644\n",
            "Epoch: 11/12...  Loss: 0.5800 Validation Lost 0.0122 Accuracy: 0.8864\n",
            "Epoch: 11/12...  Loss: 0.4495 Validation Lost 0.0187 Accuracy: 0.8782\n",
            "Epoch: 11/12...  Loss: 0.5888 Validation Lost 0.0080 Accuracy: 0.8849\n",
            "Epoch: 11/12...  Loss: 0.6480 Validation Lost 0.0226 Accuracy: 0.8722\n",
            "Epoch: 11/12...  Loss: 0.6459 Validation Lost 0.0482 Accuracy: 0.8556\n",
            "Epoch: 11/12...  Loss: 0.4628 Validation Lost 0.0064 Accuracy: 0.8608\n",
            "Epoch: 11/12...  Loss: 0.6135 Validation Lost 0.0042 Accuracy: 0.8798\n",
            "Epoch: 11/12...  Loss: 0.6165 Validation Lost 0.0341 Accuracy: 0.8646\n",
            "Epoch: 11/12...  Loss: 0.6801 Validation Lost 0.0349 Accuracy: 0.8562\n",
            "Epoch: 11/12...  Loss: 0.5635 Validation Lost 0.0225 Accuracy: 0.8749\n",
            "Epoch: 11/12...  Loss: 0.6862 Validation Lost 0.0204 Accuracy: 0.8626\n",
            "Epoch: 11/12...  Loss: 0.6242 Validation Lost 0.0068 Accuracy: 0.8666\n",
            "Epoch: 11/12...  Loss: 0.5031 Validation Lost 0.0061 Accuracy: 0.8596\n",
            "Epoch: 11/12...  Loss: 0.5942 Validation Lost 0.0098 Accuracy: 0.8575\n",
            "Epoch: 11/12...  Loss: 0.7318 Validation Lost 0.0228 Accuracy: 0.8578\n",
            "Epoch: 12/12...  Loss: 0.2748 Validation Lost 0.0061 Accuracy: 0.8729\n",
            "Epoch: 12/12...  Loss: 0.6692 Validation Lost 0.0227 Accuracy: 0.8725\n",
            "Epoch: 12/12...  Loss: 0.5588 Validation Lost 0.0317 Accuracy: 0.8763\n",
            "Epoch: 12/12...  Loss: 0.5566 Validation Lost 0.0173 Accuracy: 0.8683\n",
            "Epoch: 12/12...  Loss: 0.5900 Validation Lost 0.0195 Accuracy: 0.8671\n",
            "Epoch: 12/12...  Loss: 0.5608 Validation Lost 0.0130 Accuracy: 0.8873\n",
            "Epoch: 12/12...  Loss: 0.5810 Validation Lost 0.0071 Accuracy: 0.8885\n",
            "Epoch: 12/12...  Loss: 0.6317 Validation Lost 0.0142 Accuracy: 0.8885\n",
            "Epoch: 12/12...  Loss: 0.5572 Validation Lost 0.0173 Accuracy: 0.8818\n",
            "Epoch: 12/12...  Loss: 0.6514 Validation Lost 0.0099 Accuracy: 0.8695\n",
            "Epoch: 12/12...  Loss: 0.5164 Validation Lost 0.0091 Accuracy: 0.8681\n",
            "Epoch: 12/12...  Loss: 0.6361 Validation Lost 0.0220 Accuracy: 0.8779\n",
            "Epoch: 12/12...  Loss: 0.5920 Validation Lost 0.0114 Accuracy: 0.8803\n",
            "Epoch: 12/12...  Loss: 0.5670 Validation Lost 0.0217 Accuracy: 0.8866\n",
            "Epoch: 12/12...  Loss: 0.6121 Validation Lost 0.0156 Accuracy: 0.8782\n",
            "Epoch: 12/12...  Loss: 0.5528 Validation Lost 0.0150 Accuracy: 0.8662\n",
            "Epoch: 12/12...  Loss: 0.5369 Validation Lost 0.0083 Accuracy: 0.8719\n",
            "Epoch: 12/12...  Loss: 0.5170 Validation Lost 0.0157 Accuracy: 0.8681\n",
            "Epoch: 12/12...  Loss: 0.7056 Validation Lost 0.0280 Accuracy: 0.8803\n",
            "Epoch: 12/12...  Loss: 0.5640 Validation Lost 0.0446 Accuracy: 0.8620\n",
            "Epoch: 12/12...  Loss: 0.6667 Validation Lost 0.0343 Accuracy: 0.8484\n"
          ],
          "name": "stdout"
        }
      ]
    },
    {
      "metadata": {
        "id": "sTXyckt8CK3t",
        "colab_type": "code",
        "colab": {}
      },
      "cell_type": "code",
      "source": [
        "model.class_to_idx = train_data.class_to_idx\n",
        "model.cpu\n",
        "torch.save({'structure' :'vgg16',\n",
        "            'hidden_layer1':120,\n",
        "            'state_dict':model.state_dict(),\n",
        "            'class_to_idx':model.class_to_idx},\n",
        "            'checkpoint.pth')"
      ],
      "execution_count": 0,
      "outputs": []
    },
    {
      "metadata": {
        "id": "EdDSEKXyqV78",
        "colab_type": "code",
        "outputId": "4861a20e-1879-4408-a64b-087ddf8c1a8d",
        "colab": {
          "base_uri": "https://localhost:8080/",
          "height": 34
        }
      },
      "cell_type": "code",
      "source": [
        "!ls"
      ],
      "execution_count": 0,
      "outputs": [
        {
          "output_type": "stream",
          "text": [
            "checkpoint.pth\tdata  flower_data  flower_data.zip  model_cifar.pt  sample_data\n"
          ],
          "name": "stdout"
        }
      ]
    },
    {
      "metadata": {
        "id": "_UgI-CAWw0hh",
        "colab_type": "code",
        "colab": {}
      },
      "cell_type": "code",
      "source": [
        "model.class_to_idx = train_data.class_to_idx\n",
        "model.cpu\n",
        "torch.save({'structure' :'vgg16',\n",
        "            'hidden_layer1':120,\n",
        "            'state_dict':model.state_dict(),\n",
        "            'class_to_idx':model.class_to_idx},\n",
        "            'checkpoint.pth')"
      ],
      "execution_count": 0,
      "outputs": []
    },
    {
      "metadata": {
        "id": "BY2mnmPNyh5g",
        "colab_type": "code",
        "outputId": "6cd0188f-3a21-40cb-9034-882340174923",
        "colab": {
          "base_uri": "https://localhost:8080/",
          "height": 212
        }
      },
      "cell_type": "code",
      "source": [
        "!pip install -U -q PyDrive\n",
        "from pydrive.auth import GoogleAuth\n",
        "from pydrive.drive import GoogleDrive\n",
        "from google.colab import auth\n",
        "from oauth2client.client import GoogleCredentials\n",
        "\n",
        "# Authenticate and create the PyDrive client.\n",
        "# This only needs to be done once in a notebook.\n",
        "auth.authenticate_user()\n",
        "gauth = GoogleAuth()\n",
        "gauth.credentials = GoogleCredentials.get_application_default()\n",
        "drive = GoogleDrive(gauth)\n",
        "\n",
        "# Create & upload a file.\n",
        "uploaded = drive.CreateFile({'title': 'checkpoint.pth'})\n",
        "uploaded.SetContentFile('checkpoint.pth')\n",
        "uploaded.Upload()\n",
        "print('Uploaded file with ID {}'.format(uploaded.get('id')))"
      ],
      "execution_count": 0,
      "outputs": [
        {
          "output_type": "stream",
          "text": [
            "Uploaded file with ID 1oUVfbpehWdJluJ_DJL_l-JvdzJDJgKcB\n"
          ],
          "name": "stdout"
        },
        {
          "output_type": "error",
          "ename": "NameError",
          "evalue": "ignored",
          "traceback": [
            "\u001b[0;31m---------------------------------------------------------------------------\u001b[0m",
            "\u001b[0;31mNameError\u001b[0m                                 Traceback (most recent call last)",
            "\u001b[0;32m<ipython-input-45-e5f2c17cdbef>\u001b[0m in \u001b[0;36m<module>\u001b[0;34m()\u001b[0m\n\u001b[1;32m     17\u001b[0m \u001b[0muploaded\u001b[0m\u001b[0;34m.\u001b[0m\u001b[0mUpload\u001b[0m\u001b[0;34m(\u001b[0m\u001b[0;34m)\u001b[0m\u001b[0;34m\u001b[0m\u001b[0;34m\u001b[0m\u001b[0m\n\u001b[1;32m     18\u001b[0m \u001b[0mprint\u001b[0m\u001b[0;34m(\u001b[0m\u001b[0;34m'Uploaded file with ID {}'\u001b[0m\u001b[0;34m.\u001b[0m\u001b[0mformat\u001b[0m\u001b[0;34m(\u001b[0m\u001b[0muploaded\u001b[0m\u001b[0;34m.\u001b[0m\u001b[0mget\u001b[0m\u001b[0;34m(\u001b[0m\u001b[0;34m'id'\u001b[0m\u001b[0;34m)\u001b[0m\u001b[0;34m)\u001b[0m\u001b[0;34m)\u001b[0m\u001b[0;34m\u001b[0m\u001b[0;34m\u001b[0m\u001b[0m\n\u001b[0;32m---> 19\u001b[0;31m \u001b[0mshare\u001b[0m\u001b[0;34m\u001b[0m\u001b[0;34m\u001b[0m\u001b[0m\n\u001b[0m",
            "\u001b[0;31mNameError\u001b[0m: name 'share' is not defined"
          ]
        }
      ]
    }
  ]
}